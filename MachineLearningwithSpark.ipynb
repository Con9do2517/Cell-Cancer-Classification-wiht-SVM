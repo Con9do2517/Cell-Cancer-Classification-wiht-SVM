{
 "cells": [
  {
   "cell_type": "markdown",
   "metadata": {},
   "source": [
    "Reading csv files with PySpark"
   ]
  },
  {
   "cell_type": "code",
   "execution_count": 1,
   "metadata": {},
   "outputs": [],
   "source": [
    "import pandas as pd "
   ]
  },
  {
   "cell_type": "code",
   "execution_count": 2,
   "metadata": {},
   "outputs": [],
   "source": [
    "# read_file = pd.read_excel (\"Online Retail.xlsx\")\n",
    "# read_file.to_csv(\"OnlineRetail.csv\", index = None, header=True)"
   ]
  },
  {
   "cell_type": "code",
   "execution_count": 2,
   "metadata": {},
   "outputs": [
    {
     "data": {
      "text/html": [
       "<div>\n",
       "<style scoped>\n",
       "    .dataframe tbody tr th:only-of-type {\n",
       "        vertical-align: middle;\n",
       "    }\n",
       "\n",
       "    .dataframe tbody tr th {\n",
       "        vertical-align: top;\n",
       "    }\n",
       "\n",
       "    .dataframe thead th {\n",
       "        text-align: right;\n",
       "    }\n",
       "</style>\n",
       "<table border=\"1\" class=\"dataframe\">\n",
       "  <thead>\n",
       "    <tr style=\"text-align: right;\">\n",
       "      <th></th>\n",
       "      <th>InvoiceNo</th>\n",
       "      <th>StockCode</th>\n",
       "      <th>Description</th>\n",
       "      <th>Quantity</th>\n",
       "      <th>InvoiceDate</th>\n",
       "      <th>UnitPrice</th>\n",
       "      <th>CustomerID</th>\n",
       "      <th>Country</th>\n",
       "    </tr>\n",
       "  </thead>\n",
       "  <tbody>\n",
       "    <tr>\n",
       "      <th>0</th>\n",
       "      <td>536365</td>\n",
       "      <td>85123A</td>\n",
       "      <td>WHITE HANGING HEART T-LIGHT HOLDER</td>\n",
       "      <td>6</td>\n",
       "      <td>2010-12-01 08:26:00</td>\n",
       "      <td>2.55</td>\n",
       "      <td>17850.0</td>\n",
       "      <td>United Kingdom</td>\n",
       "    </tr>\n",
       "    <tr>\n",
       "      <th>1</th>\n",
       "      <td>536365</td>\n",
       "      <td>71053</td>\n",
       "      <td>WHITE METAL LANTERN</td>\n",
       "      <td>6</td>\n",
       "      <td>2010-12-01 08:26:00</td>\n",
       "      <td>3.39</td>\n",
       "      <td>17850.0</td>\n",
       "      <td>United Kingdom</td>\n",
       "    </tr>\n",
       "    <tr>\n",
       "      <th>2</th>\n",
       "      <td>536365</td>\n",
       "      <td>84406B</td>\n",
       "      <td>CREAM CUPID HEARTS COAT HANGER</td>\n",
       "      <td>8</td>\n",
       "      <td>2010-12-01 08:26:00</td>\n",
       "      <td>2.75</td>\n",
       "      <td>17850.0</td>\n",
       "      <td>United Kingdom</td>\n",
       "    </tr>\n",
       "    <tr>\n",
       "      <th>3</th>\n",
       "      <td>536365</td>\n",
       "      <td>84029G</td>\n",
       "      <td>KNITTED UNION FLAG HOT WATER BOTTLE</td>\n",
       "      <td>6</td>\n",
       "      <td>2010-12-01 08:26:00</td>\n",
       "      <td>3.39</td>\n",
       "      <td>17850.0</td>\n",
       "      <td>United Kingdom</td>\n",
       "    </tr>\n",
       "    <tr>\n",
       "      <th>4</th>\n",
       "      <td>536365</td>\n",
       "      <td>84029E</td>\n",
       "      <td>RED WOOLLY HOTTIE WHITE HEART.</td>\n",
       "      <td>6</td>\n",
       "      <td>2010-12-01 08:26:00</td>\n",
       "      <td>3.39</td>\n",
       "      <td>17850.0</td>\n",
       "      <td>United Kingdom</td>\n",
       "    </tr>\n",
       "    <tr>\n",
       "      <th>5</th>\n",
       "      <td>536365</td>\n",
       "      <td>22752</td>\n",
       "      <td>SET 7 BABUSHKA NESTING BOXES</td>\n",
       "      <td>2</td>\n",
       "      <td>2010-12-01 08:26:00</td>\n",
       "      <td>7.65</td>\n",
       "      <td>17850.0</td>\n",
       "      <td>United Kingdom</td>\n",
       "    </tr>\n",
       "    <tr>\n",
       "      <th>6</th>\n",
       "      <td>536365</td>\n",
       "      <td>21730</td>\n",
       "      <td>GLASS STAR FROSTED T-LIGHT HOLDER</td>\n",
       "      <td>6</td>\n",
       "      <td>2010-12-01 08:26:00</td>\n",
       "      <td>4.25</td>\n",
       "      <td>17850.0</td>\n",
       "      <td>United Kingdom</td>\n",
       "    </tr>\n",
       "    <tr>\n",
       "      <th>7</th>\n",
       "      <td>536366</td>\n",
       "      <td>22633</td>\n",
       "      <td>HAND WARMER UNION JACK</td>\n",
       "      <td>6</td>\n",
       "      <td>2010-12-01 08:28:00</td>\n",
       "      <td>1.85</td>\n",
       "      <td>17850.0</td>\n",
       "      <td>United Kingdom</td>\n",
       "    </tr>\n",
       "    <tr>\n",
       "      <th>8</th>\n",
       "      <td>536366</td>\n",
       "      <td>22632</td>\n",
       "      <td>HAND WARMER RED POLKA DOT</td>\n",
       "      <td>6</td>\n",
       "      <td>2010-12-01 08:28:00</td>\n",
       "      <td>1.85</td>\n",
       "      <td>17850.0</td>\n",
       "      <td>United Kingdom</td>\n",
       "    </tr>\n",
       "    <tr>\n",
       "      <th>9</th>\n",
       "      <td>536367</td>\n",
       "      <td>84879</td>\n",
       "      <td>ASSORTED COLOUR BIRD ORNAMENT</td>\n",
       "      <td>32</td>\n",
       "      <td>2010-12-01 08:34:00</td>\n",
       "      <td>1.69</td>\n",
       "      <td>13047.0</td>\n",
       "      <td>United Kingdom</td>\n",
       "    </tr>\n",
       "  </tbody>\n",
       "</table>\n",
       "</div>"
      ],
      "text/plain": [
       "  InvoiceNo StockCode                          Description  Quantity  \\\n",
       "0    536365    85123A   WHITE HANGING HEART T-LIGHT HOLDER         6   \n",
       "1    536365     71053                  WHITE METAL LANTERN         6   \n",
       "2    536365    84406B       CREAM CUPID HEARTS COAT HANGER         8   \n",
       "3    536365    84029G  KNITTED UNION FLAG HOT WATER BOTTLE         6   \n",
       "4    536365    84029E       RED WOOLLY HOTTIE WHITE HEART.         6   \n",
       "5    536365     22752         SET 7 BABUSHKA NESTING BOXES         2   \n",
       "6    536365     21730    GLASS STAR FROSTED T-LIGHT HOLDER         6   \n",
       "7    536366     22633               HAND WARMER UNION JACK         6   \n",
       "8    536366     22632            HAND WARMER RED POLKA DOT         6   \n",
       "9    536367     84879        ASSORTED COLOUR BIRD ORNAMENT        32   \n",
       "\n",
       "           InvoiceDate  UnitPrice  CustomerID         Country  \n",
       "0  2010-12-01 08:26:00       2.55     17850.0  United Kingdom  \n",
       "1  2010-12-01 08:26:00       3.39     17850.0  United Kingdom  \n",
       "2  2010-12-01 08:26:00       2.75     17850.0  United Kingdom  \n",
       "3  2010-12-01 08:26:00       3.39     17850.0  United Kingdom  \n",
       "4  2010-12-01 08:26:00       3.39     17850.0  United Kingdom  \n",
       "5  2010-12-01 08:26:00       7.65     17850.0  United Kingdom  \n",
       "6  2010-12-01 08:26:00       4.25     17850.0  United Kingdom  \n",
       "7  2010-12-01 08:28:00       1.85     17850.0  United Kingdom  \n",
       "8  2010-12-01 08:28:00       1.85     17850.0  United Kingdom  \n",
       "9  2010-12-01 08:34:00       1.69     13047.0  United Kingdom  "
      ]
     },
     "execution_count": 2,
     "metadata": {},
     "output_type": "execute_result"
    }
   ],
   "source": [
    "df = pd.DataFrame(pd.read_csv(\"OnlineRetail.csv\"))\n",
    "df.head(10)"
   ]
  },
  {
   "cell_type": "markdown",
   "metadata": {},
   "source": [
    "Phân tích dữ liệu cơ bản"
   ]
  },
  {
   "cell_type": "code",
   "execution_count": 4,
   "metadata": {},
   "outputs": [],
   "source": [
    "# Init SparkSession\n",
    "from pyspark.sql import SparkSession\n",
    "spark = SparkSession.builder.appName(\"Pyspark Tutorial\").config(\"spark.memory.offHeap.enabled\",\"true\").config(\"spark.memory.offHeap.size\",\"10g\").getOrCreate()\n"
   ]
  },
  {
   "cell_type": "code",
   "execution_count": 5,
   "metadata": {},
   "outputs": [],
   "source": [
    "#Read data fame\n",
    "df = spark.read.csv(\"OnlineRetail.csv\", header=True, escape=\"\\\"\")"
   ]
  },
  {
   "cell_type": "code",
   "execution_count": 6,
   "metadata": {},
   "outputs": [
    {
     "name": "stdout",
     "output_type": "stream",
     "text": [
      "+---------+---------+--------------------+--------+-------------------+---------+----------+--------------+\n",
      "|InvoiceNo|StockCode|         Description|Quantity|        InvoiceDate|UnitPrice|CustomerID|       Country|\n",
      "+---------+---------+--------------------+--------+-------------------+---------+----------+--------------+\n",
      "|   536365|   85123A|WHITE HANGING HEA...|       6|2010-12-01 08:26:00|     2.55|   17850.0|United Kingdom|\n",
      "|   536365|    71053| WHITE METAL LANTERN|       6|2010-12-01 08:26:00|     3.39|   17850.0|United Kingdom|\n",
      "|   536365|   84406B|CREAM CUPID HEART...|       8|2010-12-01 08:26:00|     2.75|   17850.0|United Kingdom|\n",
      "|   536365|   84029G|KNITTED UNION FLA...|       6|2010-12-01 08:26:00|     3.39|   17850.0|United Kingdom|\n",
      "|   536365|   84029E|RED WOOLLY HOTTIE...|       6|2010-12-01 08:26:00|     3.39|   17850.0|United Kingdom|\n",
      "+---------+---------+--------------------+--------+-------------------+---------+----------+--------------+\n",
      "only showing top 5 rows\n",
      "\n"
     ]
    }
   ],
   "source": [
    "df.show(5)"
   ]
  },
  {
   "cell_type": "code",
   "execution_count": 7,
   "metadata": {},
   "outputs": [
    {
     "data": {
      "text/plain": [
       "541909"
      ]
     },
     "execution_count": 7,
     "metadata": {},
     "output_type": "execute_result"
    }
   ],
   "source": [
    "# Đếm xem có bao nhiêu dòng dữ liệu\n",
    "df.count()"
   ]
  },
  {
   "cell_type": "code",
   "execution_count": 8,
   "metadata": {},
   "outputs": [
    {
     "data": {
      "text/plain": [
       "4373"
      ]
     },
     "execution_count": 8,
     "metadata": {},
     "output_type": "execute_result"
    }
   ],
   "source": [
    "# Có bao nhiêu khách hàng\n",
    "df.select('CustomerID').distinct().count()"
   ]
  },
  {
   "cell_type": "code",
   "execution_count": 9,
   "metadata": {},
   "outputs": [
    {
     "name": "stdout",
     "output_type": "stream",
     "text": [
      "+---------------+-------------+\n",
      "|        Country|country_count|\n",
      "+---------------+-------------+\n",
      "| United Kingdom|         3950|\n",
      "|        Germany|           95|\n",
      "|         France|           87|\n",
      "|          Spain|           31|\n",
      "|        Belgium|           25|\n",
      "|    Switzerland|           21|\n",
      "|       Portugal|           19|\n",
      "|          Italy|           15|\n",
      "|        Finland|           12|\n",
      "|        Austria|           11|\n",
      "|         Norway|           10|\n",
      "|        Denmark|            9|\n",
      "|Channel Islands|            9|\n",
      "|      Australia|            9|\n",
      "|    Netherlands|            9|\n",
      "|         Sweden|            8|\n",
      "|         Cyprus|            8|\n",
      "|          Japan|            8|\n",
      "|         Poland|            6|\n",
      "|         Greece|            4|\n",
      "+---------------+-------------+\n",
      "only showing top 20 rows\n",
      "\n"
     ]
    }
   ],
   "source": [
    "# Quốc gia nào có số lượng khách hàng thế nào\n",
    "#agg(): (aggregate values) tính toán các giá trị tổng hợp\n",
    "# alisa(): đặt tên 1 cột\n",
    "from pyspark.sql.functions import countDistinct, desc\n",
    "df.groupBy('Country').agg(countDistinct('CustomerID').alias('country_count')).orderBy(desc('country_count')).show()\n"
   ]
  },
  {
   "cell_type": "code",
   "execution_count": 10,
   "metadata": {},
   "outputs": [],
   "source": [
    "# Định dạng lại trường dữ liệu ngày tháng thành timestamp để có thể sort, tìm min hoặc max\n",
    "from pyspark.sql.functions import to_timestamp\n",
    "spark.sql(\"set spark.sql.legacy.timeParserPolicy=LEGACY\")\n",
    "df = df.withColumn('date',to_timestamp(\"InvoiceDate\", 'yy-MM-dd HH:mm:ss'))"
   ]
  },
  {
   "cell_type": "code",
   "execution_count": 11,
   "metadata": {},
   "outputs": [
    {
     "name": "stdout",
     "output_type": "stream",
     "text": [
      "+-------------------+\n",
      "|          max(date)|\n",
      "+-------------------+\n",
      "|2011-12-09 12:50:00|\n",
      "+-------------------+\n",
      "\n"
     ]
    }
   ],
   "source": [
    "# Ngày có đơn hàng gần đây nhất\n",
    "from pyspark.sql.functions import max\n",
    "df.select(max(\"date\")).show()"
   ]
  },
  {
   "cell_type": "code",
   "execution_count": 12,
   "metadata": {},
   "outputs": [
    {
     "name": "stdout",
     "output_type": "stream",
     "text": [
      "+-------------------+\n",
      "|          min(date)|\n",
      "+-------------------+\n",
      "|2010-12-01 08:26:00|\n",
      "+-------------------+\n",
      "\n"
     ]
    }
   ],
   "source": [
    "# Ngày đầu tiên có đơn hàng\n",
    "from pyspark.sql.functions import min\n",
    "df.select(min(\"date\")).show()"
   ]
  },
  {
   "cell_type": "markdown",
   "metadata": {},
   "source": [
    "Tiền xử lý dữ liệu"
   ]
  },
  {
   "cell_type": "markdown",
   "metadata": {},
   "source": [
    "Recency: Khách hàng mua hàng gần đây, được xem là quan trọng hơn so với khách hàng lâu ko mua hàng"
   ]
  },
  {
   "cell_type": "code",
   "execution_count": 13,
   "metadata": {},
   "outputs": [],
   "source": [
    "from pyspark.sql.functions import lit,col\n",
    "df = df.withColumn(\"from_date\", lit(\"2010-12-01 08:26:00\"))"
   ]
  },
  {
   "cell_type": "code",
   "execution_count": 14,
   "metadata": {},
   "outputs": [],
   "source": [
    "df = df.withColumn('from_date',to_timestamp(\"from_date\", 'yy-MM-dd HH:mm'))\n",
    "df2 = df.withColumn('from_date',to_timestamp(col('from_date'))).withColumn('recency',col(\"date\").cast(\"long\") - col('from_date').cast(\"long\"))"
   ]
  },
  {
   "cell_type": "code",
   "execution_count": 15,
   "metadata": {},
   "outputs": [],
   "source": [
    "df2 = df2.join(df2.groupBy('CustomerID').agg(max('recency').alias('recency')),on='recency',how='leftsemi')\n"
   ]
  },
  {
   "cell_type": "code",
   "execution_count": 16,
   "metadata": {},
   "outputs": [],
   "source": [
    "import pyspark.sql.functions as f\n",
    "df_freq = df2.groupBy('CustomerID').agg(f.count('InvoiceNo').alias('frequency'))\n"
   ]
  },
  {
   "cell_type": "code",
   "execution_count": 17,
   "metadata": {},
   "outputs": [],
   "source": [
    "df3 = df2.join(df_freq,on='CustomerID',how='inner')"
   ]
  },
  {
   "cell_type": "code",
   "execution_count": 21,
   "metadata": {},
   "outputs": [],
   "source": [
    "m_val = df3.withColumn('TotalAmount',col(\"Quantity\") * col(\"UnitPrice\"))"
   ]
  },
  {
   "cell_type": "code",
   "execution_count": 23,
   "metadata": {},
   "outputs": [],
   "source": [
    "m_val = m_val.groupBy('CustomerID').agg(f.sum('TotalAmount').alias('monetary_value'))"
   ]
  },
  {
   "cell_type": "code",
   "execution_count": 25,
   "metadata": {},
   "outputs": [
    {
     "name": "stdout",
     "output_type": "stream",
     "text": [
      "+----------+-------------------+\n",
      "|CustomerID|     monetary_value|\n",
      "+----------+-------------------+\n",
      "|   15070.0|              106.2|\n",
      "|   16718.0|  623.7500000000002|\n",
      "|   17850.0|             126.38|\n",
      "|   16499.0|              -2.95|\n",
      "|   15204.0| 316.58000000000004|\n",
      "|   16270.0| 1141.2399999999996|\n",
      "|   12386.0|              143.0|\n",
      "|   18119.0| 181.11999999999998|\n",
      "|   13922.0| 172.24999999999997|\n",
      "|   13958.0|            -102.45|\n",
      "|   17307.0|-152.64000000000001|\n",
      "|   17950.0|             208.95|\n",
      "|   13295.0|              201.2|\n",
      "|   17925.0|             244.08|\n",
      "|   16893.0| 145.93000000000004|\n",
      "|   13369.0|             -44.53|\n",
      "|   14119.0|              -19.9|\n",
      "|   16583.0| 233.45000000000002|\n",
      "|   14237.0| 161.00000000000003|\n",
      "|   16665.0|              135.4|\n",
      "+----------+-------------------+\n",
      "only showing top 20 rows\n",
      "\n"
     ]
    }
   ],
   "source": [
    "m_val.show()"
   ]
  },
  {
   "cell_type": "code",
   "execution_count": 24,
   "metadata": {},
   "outputs": [],
   "source": [
    "final_df = m_val.join(df3,on='CustomerID',how='inner')"
   ]
  },
  {
   "cell_type": "code",
   "execution_count": 26,
   "metadata": {},
   "outputs": [
    {
     "name": "stdout",
     "output_type": "stream",
     "text": [
      "+----------+-----------------+-------+---------+---------+--------------------+--------+-------------------+---------+--------------+-------------------+-------------------+---------+\n",
      "|CustomerID|   monetary_value|recency|InvoiceNo|StockCode|         Description|Quantity|        InvoiceDate|UnitPrice|       Country|               date|          from_date|frequency|\n",
      "+----------+-----------------+-------+---------+---------+--------------------+--------+-------------------+---------+--------------+-------------------+-------------------+---------+\n",
      "|   15070.0|            106.2|  97020|   536636|    22086|PAPER CHAIN KIT 5...|      36|2010-12-02 11:23:00|     2.95|United Kingdom|2010-12-02 11:23:00|2010-12-01 08:26:00|        1|\n",
      "|   16718.0|623.7500000000002| 362220|   537153|    84836|ZINC METAL HEART ...|      12|2010-12-05 13:03:00|     1.25|United Kingdom|2010-12-05 13:03:00|2010-12-01 08:26:00|       45|\n",
      "|   16718.0|623.7500000000002| 362220|   537153|    21014|SWISS CHALET TREE...|      24|2010-12-05 13:03:00|     0.85|United Kingdom|2010-12-05 13:03:00|2010-12-01 08:26:00|       45|\n",
      "|   16718.0|623.7500000000002| 362220|   537153|    21888|           BINGO SET|       6|2010-12-05 13:03:00|     3.75|United Kingdom|2010-12-05 13:03:00|2010-12-01 08:26:00|       45|\n",
      "|   16718.0|623.7500000000002| 362220|   537153|    22975|SPACEBOY CHILDREN...|      12|2010-12-05 13:03:00|     1.25|United Kingdom|2010-12-05 13:03:00|2010-12-01 08:26:00|       45|\n",
      "|   16718.0|623.7500000000002| 362220|   537153|    22976|CIRCUS PARADE CHI...|      12|2010-12-05 13:03:00|     1.25|United Kingdom|2010-12-05 13:03:00|2010-12-01 08:26:00|       45|\n",
      "|   16718.0|623.7500000000002| 362220|   537153|    22955|36 FOIL STAR CAKE...|       1|2010-12-05 13:03:00|      2.1|United Kingdom|2010-12-05 13:03:00|2010-12-01 08:26:00|       45|\n",
      "|   16718.0|623.7500000000002| 362220|   537153|    21703|BAG 125g SWIRLY M...|      10|2010-12-05 13:03:00|     0.42|United Kingdom|2010-12-05 13:03:00|2010-12-01 08:26:00|       45|\n",
      "|   16718.0|623.7500000000002| 362220|   537153|   85135B|BLUE DRAGONFLY HE...|       3|2010-12-05 13:03:00|     7.95|United Kingdom|2010-12-05 13:03:00|2010-12-01 08:26:00|       45|\n",
      "|   16718.0|623.7500000000002| 362220|   537153|    22960|JAM MAKING SET WI...|       2|2010-12-05 13:03:00|     4.25|United Kingdom|2010-12-05 13:03:00|2010-12-01 08:26:00|       45|\n",
      "|   16718.0|623.7500000000002| 362220|   537153|    22972|CHILDREN'S SPACEB...|       6|2010-12-05 13:03:00|     1.65|United Kingdom|2010-12-05 13:03:00|2010-12-01 08:26:00|       45|\n",
      "|   16718.0|623.7500000000002| 362220|   537153|    22974|CHILDRENS DOLLY G...|       6|2010-12-05 13:03:00|     1.65|United Kingdom|2010-12-05 13:03:00|2010-12-01 08:26:00|       45|\n",
      "|   16718.0|623.7500000000002| 362220|   537153|    22920|   HERB MARKER BASIL|      12|2010-12-05 13:03:00|     0.65|United Kingdom|2010-12-05 13:03:00|2010-12-01 08:26:00|       45|\n",
      "|   16718.0|623.7500000000002| 362220|   537153|    22633|HAND WARMER UNION...|       1|2010-12-05 13:03:00|      2.1|United Kingdom|2010-12-05 13:03:00|2010-12-01 08:26:00|       45|\n",
      "|   16718.0|623.7500000000002| 362220|   537153|    22917|HERB MARKER ROSEMARY|      12|2010-12-05 13:03:00|     0.65|United Kingdom|2010-12-05 13:03:00|2010-12-01 08:26:00|       45|\n",
      "|   16718.0|623.7500000000002| 362220|   537153|    22941|CHRISTMAS LIGHTS ...|       6|2010-12-05 13:03:00|      8.5|United Kingdom|2010-12-05 13:03:00|2010-12-01 08:26:00|       45|\n",
      "|   16718.0|623.7500000000002| 362220|   537153|    22916|   HERB MARKER THYME|      12|2010-12-05 13:03:00|     0.65|United Kingdom|2010-12-05 13:03:00|2010-12-01 08:26:00|       45|\n",
      "|   16718.0|623.7500000000002| 362220|   537153|    22918| HERB MARKER PARSLEY|      12|2010-12-05 13:03:00|     0.65|United Kingdom|2010-12-05 13:03:00|2010-12-01 08:26:00|       45|\n",
      "|   16718.0|623.7500000000002| 362220|   537153|    22357|KINGS CHOICE BISC...|       4|2010-12-05 13:03:00|     4.25|United Kingdom|2010-12-05 13:03:00|2010-12-01 08:26:00|       45|\n",
      "|   16718.0|623.7500000000002| 362220|   537153|    21912|VINTAGE SNAKES & ...|       6|2010-12-05 13:03:00|     3.75|United Kingdom|2010-12-05 13:03:00|2010-12-01 08:26:00|       45|\n",
      "+----------+-----------------+-------+---------+---------+--------------------+--------+-------------------+---------+--------------+-------------------+-------------------+---------+\n",
      "only showing top 20 rows\n",
      "\n"
     ]
    }
   ],
   "source": [
    "final_df.show()"
   ]
  },
  {
   "cell_type": "code",
   "execution_count": 27,
   "metadata": {},
   "outputs": [],
   "source": [
    "final_df = final_df.select(['recency','frequency','monetary_value','CustomerID']).distinct()"
   ]
  },
  {
   "cell_type": "code",
   "execution_count": 28,
   "metadata": {},
   "outputs": [
    {
     "name": "stdout",
     "output_type": "stream",
     "text": [
      "+-------+---------+-------------------+----------+\n",
      "|recency|frequency|     monetary_value|CustomerID|\n",
      "+-------+---------+-------------------+----------+\n",
      "|  97020|        1|              106.2|   15070.0|\n",
      "| 362220|       45|  623.7500000000002|   16718.0|\n",
      "|  91080|       32|             126.38|   17850.0|\n",
      "|1148040|        1|              -2.95|   16499.0|\n",
      "|1401780|        9| 316.58000000000004|   15204.0|\n",
      "|1749600|       54| 1141.2399999999996|   16270.0|\n",
      "|3125460|        2|              143.0|   12386.0|\n",
      "| 531180|       30| 181.11999999999998|   18119.0|\n",
      "|1908720|        7| 172.24999999999997|   13922.0|\n",
      "| 117420|        5|            -102.45|   13958.0|\n",
      "| 716280|        1|-152.64000000000001|   17307.0|\n",
      "| 716280|       33|             208.95|   17950.0|\n",
      "|1220100|       10|              201.2|   13295.0|\n",
      "|  92640|        1|             244.08|   17925.0|\n",
      "| 618000|       45| 145.93000000000004|   16893.0|\n",
      "|1661760|        5|             -44.53|   13369.0|\n",
      "|1661520|        1|              -19.9|   14119.0|\n",
      "|  13020|       14| 233.45000000000002|   16583.0|\n",
      "|  17640|        9| 161.00000000000003|   14237.0|\n",
      "| 970620|        9|              135.4|   16665.0|\n",
      "+-------+---------+-------------------+----------+\n",
      "only showing top 20 rows\n",
      "\n"
     ]
    }
   ],
   "source": [
    "final_df.show()"
   ]
  },
  {
   "cell_type": "code",
   "execution_count": 29,
   "metadata": {},
   "outputs": [],
   "source": [
    "from pyspark.ml.feature import VectorAssembler\n",
    "from pyspark.ml.feature import StandardScaler\n",
    "\n",
    "assemble=VectorAssembler(inputCols=[\n",
    "    'recency','frequency','monetary_value'\n",
    "], outputCol='features')\n",
    "\n",
    "assembled_data=assemble.transform(final_df)\n",
    "\n",
    "scale=StandardScaler(inputCol='features',outputCol='standardized')\n",
    "data_scale=scale.fit(assembled_data)\n",
    "data_scale_output=data_scale.transform(assembled_data)"
   ]
  },
  {
   "cell_type": "code",
   "execution_count": 30,
   "metadata": {},
   "outputs": [
    {
     "name": "stdout",
     "output_type": "stream",
     "text": [
      "+---------------------------------------------------------------+\n",
      "|standardized                                                   |\n",
      "+---------------------------------------------------------------+\n",
      "|[0.011123700559287606,0.025819728443703036,0.03799110868989267]|\n",
      "|[0.04152985793223209,1.1618877799666367,0.22313516050207685]   |\n",
      "+---------------------------------------------------------------+\n",
      "only showing top 2 rows\n",
      "\n"
     ]
    }
   ],
   "source": [
    "data_scale_output.select('standardized').show(2, truncate=False)"
   ]
  },
  {
   "cell_type": "code",
   "execution_count": 31,
   "metadata": {},
   "outputs": [],
   "source": [
    "from pyspark.ml.clustering import KMeans\n",
    "from pyspark.ml.evaluation import ClusteringEvaluator\n",
    "import numpy as np\n",
    "\n",
    "cost = np.zeros(10)\n",
    "evaluator = ClusteringEvaluator(predictionCol='prediction', featuresCol='standardized',metricName='silhouette', distanceMeasure='squaredEuclidean')\n",
    "\n",
    "for i in range(2,10):\n",
    "    KMeans_algo=KMeans(featuresCol='standardized', k=i)\n",
    "    KMeans_fit=KMeans_algo.fit(data_scale_output)\n",
    "    output=KMeans_fit.transform(data_scale_output)\n",
    "    cost[i] = KMeans_fit.summary.trainingCost"
   ]
  },
  {
   "cell_type": "code",
   "execution_count": 32,
   "metadata": {},
   "outputs": [
    {
     "data": {
      "image/png": "[encoded data removed]",
      "text/plain": [
       "<Figure size 640x480 with 1 Axes>"
      ]
     },
     "metadata": {},
     "output_type": "display_data"
    }
   ],
   "source": [
    "import pandas as pd\n",
    "import pylab as pl\n",
    "df_cost = pd.DataFrame(cost[2:])\n",
    "df_cost.columns = [\"cost\"]\n",
    "new_col = range(2,10)\n",
    "df_cost.insert(0, 'cluster', new_col)\n",
    "pl.plot(df_cost.cluster, df_cost.cost)\n",
    "pl.xlabel('Number of Clusters')\n",
    "pl.ylabel('Score')\n",
    "pl.title('Elbow Curve')\n",
    "pl.show()"
   ]
  },
  {
   "cell_type": "code",
   "execution_count": 37,
   "metadata": {},
   "outputs": [],
   "source": [
    "kmeans_algo=KMeans(featuresCol='standardized', k=4)\n",
    "kmeans_fit=kmeans_algo.fit(data_scale_output)"
   ]
  },
  {
   "cell_type": "code",
   "execution_count": 38,
   "metadata": {},
   "outputs": [
    {
     "name": "stdout",
     "output_type": "stream",
     "text": [
      "+-------+---------+------------------+----------+--------------------+--------------------+----------+\n",
      "|recency|frequency|    monetary_value|CustomerID|            features|        standardized|prediction|\n",
      "+-------+---------+------------------+----------+--------------------+--------------------+----------+\n",
      "|  97020|        1|             106.2|   15070.0| [97020.0,1.0,106.2]|[0.01112370055928...|         1|\n",
      "| 362220|       45| 623.7500000000002|   16718.0|[362220.0,45.0,62...|[0.04152985793223...|         1|\n",
      "|  91080|       32|            126.38|   17850.0|[91080.0,32.0,126...|[0.01044265766790...|         1|\n",
      "|1148040|        1|             -2.95|   16499.0|[1148040.0,1.0,-2...|[0.13162701700767...|         1|\n",
      "|1401780|        9|316.58000000000004|   15204.0|[1401780.0,9.0,31...|[0.16071924314572...|         1|\n",
      "+-------+---------+------------------+----------+--------------------+--------------------+----------+\n",
      "only showing top 5 rows\n",
      "\n"
     ]
    }
   ],
   "source": [
    "preds=kmeans_fit.transform(data_scale_output)\n",
    "preds.show(5)"
   ]
  },
  {
   "cell_type": "code",
   "execution_count": 40,
   "metadata": {},
   "outputs": [
    {
     "data": {
      "image/png": "[encoded data removed]",
      "text/plain": [
       "<Figure size 640x480 with 1 Axes>"
      ]
     },
     "metadata": {},
     "output_type": "display_data"
    },
    {
     "data": {
      "image/png": "[encoded data removed]",
      "text/plain": [
       "<Figure size 640x480 with 1 Axes>"
      ]
     },
     "metadata": {},
     "output_type": "display_data"
    },
    {
     "data": {
      "image/png": "[encoded data removed]",
      "text/plain": [
       "<Figure size 640x480 with 1 Axes>"
      ]
     },
     "metadata": {},
     "output_type": "display_data"
    }
   ],
   "source": [
    "import matplotlib.pyplot as plt\n",
    "import seaborn as sns\n",
    "\n",
    "df_viz = preds.select('recency','frequency','monetary_value','prediction')\n",
    "df_viz = df_viz.toPandas()\n",
    "avg_df = df_viz.groupby(['prediction'], as_index=False).mean()\n",
    "\n",
    "list1 = ['recency','frequency','monetary_value']\n",
    "\n",
    "for i in list1:\n",
    "    sns.barplot(x='prediction',y=str(i),data=avg_df)\n",
    "    plt.show()"
   ]
  },
  {
   "cell_type": "code",
   "execution_count": 36,
   "metadata": {},
   "outputs": [
    {
     "data": {
      "text/plain": [
       "4340"
      ]
     },
     "execution_count": 36,
     "metadata": {},
     "output_type": "execute_result"
    }
   ],
   "source": [
    "df_filter = df.select(\"*\").filter(~col(\"InvoiceNo\").startswith(\"C\"))\n",
    "# check xem số lượng dữ liệu còn bao nhiêu\n",
    "df_filter.count()   # 532621\n",
    "df_filter.select('CustomerID').distinct().count()  # 4340"
   ]
  },
  {
   "cell_type": "code",
   "execution_count": null,
   "metadata": {},
   "outputs": [],
   "source": []
  }
 ],
 "metadata": {
  "kernelspec": {
   "display_name": "Python 3",
   "language": "python",
   "name": "python3"
  },
  "language_info": {
   "codemirror_mode": {
    "name": "ipython",
    "version": 3
   },
   "file_extension": ".py",
   "mimetype": "text/x-python",
   "name": "python",
   "nbconvert_exporter": "python",
   "pygments_lexer": "ipython3",
   "version": "3.9.13"
  }
 },
 "nbformat": 4,
 "nbformat_minor": 2
}
